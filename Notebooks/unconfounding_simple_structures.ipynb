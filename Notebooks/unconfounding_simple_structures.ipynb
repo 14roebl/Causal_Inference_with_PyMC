{
 "cells": [
  {
   "cell_type": "code",
   "execution_count": 93,
   "id": "ed6eaf2a-e3a1-442f-80cc-3dfba85c917a",
   "metadata": {},
   "outputs": [],
   "source": [
    "import warnings\n",
    "warnings.simplefilter('ignore')"
   ]
  },
  {
   "cell_type": "code",
   "execution_count": 115,
   "id": "4c944ec4-a73b-4455-ae94-763e3ad75ef7",
   "metadata": {},
   "outputs": [],
   "source": [
    "import pymc3 as pm\n",
    "from scipy.stats import norm\n",
    "import numpy as np\n",
    "import matplotlib.pyplot as plt\n",
    "import arviz as az"
   ]
  },
  {
   "cell_type": "markdown",
   "id": "fbcfa336-4f1d-46ad-8e61-5ddde9ffee29",
   "metadata": {},
   "source": [
    "### Task 1: Adjust for confounding on simple fork"
   ]
  },
  {
   "cell_type": "markdown",
   "id": "735a7b5c-fe16-41a3-8393-cc65d83525b4",
   "metadata": {},
   "source": [
    "The assumption is that if two variables ($X$, $Y$) are causally not connected by  a common cause ($Z$), there will be no association between X and Y conditional on $Z$. Without conditioning on $Z$, however, $X$ and $Y$ will be associated. This will be shown by fitting a linear regression model to simulated data, where the data-generating process if fully known. The conditioning will be done by including Z into the linear regression model. "
   ]
  },
  {
   "cell_type": "code",
   "execution_count": 178,
   "id": "0d95ad9b-ed5e-4664-9ed8-b4ade15d5d94",
   "metadata": {},
   "outputs": [],
   "source": [
    "# Defining the data generating process\n",
    "\n",
    "# Defining common cause as normal distributed random variable\n",
    "# Drawing 100 values from the distribution\n",
    "sample_size = 100\n",
    "\n",
    "z = norm(5, 1)\n",
    "np.random.seed(RANDOM_SEED)\n",
    "z_values = z.rvs(size=sample_size)\n",
    "\n",
    "# Defining normally distributed noise\n",
    "noise = norm(1, 0.5)\n",
    "noise_values_x = noise.rvs(size=sample_size)\n",
    "noise_values_y = noise.rvs(size=sample_size)\n",
    "\n",
    "# Defining X, which is a function of Z and noise\n",
    "x_values = 0.5 * z_values + noise_values_x\n",
    "\n",
    "# Defining Y, which is a function of Z and noise\n",
    "y_values = 10 * z_values + noise_values_y + 1"
   ]
  },
  {
   "cell_type": "code",
   "execution_count": 179,
   "id": "b62628db-0a68-4079-9a26-87e9e1b2d294",
   "metadata": {},
   "outputs": [
    {
     "data": {
      "text/plain": [
       "<matplotlib.collections.PathCollection at 0x22d8f216650>"
      ]
     },
     "execution_count": 179,
     "metadata": {},
     "output_type": "execute_result"
    },
    {
     "data": {
      "image/png": "[encoded data removed]",
      "text/plain": [
       "<Figure size 432x288 with 1 Axes>"
      ]
     },
     "metadata": {
      "needs_background": "light"
     },
     "output_type": "display_data"
    }
   ],
   "source": [
    "plt.scatter(x_values, y_values)"
   ]
  },
  {
   "cell_type": "code",
   "execution_count": null,
   "id": "a11c6a0f-6e68-4caa-8370-1cb1d6cf9be7",
   "metadata": {},
   "outputs": [],
   "source": []
  },
  {
   "cell_type": "code",
   "execution_count": 180,
   "id": "41d8a9d6-fd98-4dac-a72d-f5b690fbfe44",
   "metadata": {},
   "outputs": [],
   "source": [
    "# Trying to recover the true causal values with bayesian modeling\n",
    "\n",
    "confounded_model = pm.Model()\n",
    "\n",
    "with confounded_model:\n",
    "    \n",
    "    # Priors for unknown\n",
    "    intercept = pm.Normal(\"intercept\", mu=0, sigma=10)\n",
    "    x_infl = pm.Normal(\"x_infl\", mu=0, sigma=10)\n",
    "    sigma = pm.HalfNormal(\"sigma\", sigma=1)\n",
    "    \n",
    "    # Expected value of outcome\n",
    "    mu = intercept + x_infl * x_values\n",
    "    \n",
    "    # Likelihood (sampling distribution) of observations\n",
    "    Y_obs = pm.Normal(\"Y_obs\", mu=mu, sigma=sigma, observed=y_values)"
   ]
  },
  {
   "cell_type": "code",
   "execution_count": 181,
   "id": "23ee5525-06e0-4f68-8432-14bb8af37e4d",
   "metadata": {},
   "outputs": [
    {
     "data": {
      "text/html": [
       "\n",
       "<style>\n",
       "    /* Turns off some styling */\n",
       "    progress {\n",
       "        /* gets rid of default border in Firefox and Opera. */\n",
       "        border: none;\n",
       "        /* Needs to be in here for Safari polyfill so background images work as expected. */\n",
       "        background-size: auto;\n",
       "    }\n",
       "    progress:not([value]), progress:not([value])::-webkit-progress-bar {\n",
       "        background: repeating-linear-gradient(45deg, #7e7e7e, #7e7e7e 10px, #5c5c5c 10px, #5c5c5c 20px);\n",
       "    }\n",
       "    .progress-bar-interrupted, .progress-bar-interrupted::-webkit-progress-bar {\n",
       "        background: #F44336;\n",
       "    }\n",
       "</style>\n"
      ],
      "text/plain": [
       "<IPython.core.display.HTML object>"
      ]
     },
     "metadata": {},
     "output_type": "display_data"
    },
    {
     "data": {
      "text/html": [
       "\n",
       "    <div>\n",
       "      <progress value='36' class='' max='36' style='width:300px; height:20px; vertical-align: middle;'></progress>\n",
       "      100.00% [36/36 00:00&lt;00:00 logp = -371.54, ||grad|| = 3.0397]\n",
       "    </div>\n",
       "    "
      ],
      "text/plain": [
       "<IPython.core.display.HTML object>"
      ]
     },
     "metadata": {},
     "output_type": "display_data"
    },
    {
     "name": "stdout",
     "output_type": "stream",
     "text": [
      "\n"
     ]
    },
    {
     "data": {
      "text/plain": [
       "{'intercept': array(17.05748671),\n",
       " 'x_infl': array(9.71998009),\n",
       " 'sigma_log__': array(1.82523845),\n",
       " 'sigma': array(6.20427427)}"
      ]
     },
     "execution_count": 181,
     "metadata": {},
     "output_type": "execute_result"
    }
   ],
   "source": [
    "map_estimate = pm.find_MAP(model=confounded_model)\n",
    "map_estimate"
   ]
  },
  {
   "cell_type": "code",
   "execution_count": null,
   "id": "5cc96370-dbf1-43b1-a1a8-2df2808b36da",
   "metadata": {},
   "outputs": [],
   "source": []
  },
  {
   "cell_type": "code",
   "execution_count": 182,
   "id": "9268f145-bb62-44b4-811a-84c51e122494",
   "metadata": {},
   "outputs": [],
   "source": [
    "unconfounded_model = pm.Model()\n",
    "\n",
    "with unconfounded_model:\n",
    "    \n",
    "    # Priors for unknown\n",
    "    intercept = pm.Normal(\"intercept\", mu=0, sigma=10)\n",
    "    x_infl = pm.Normal(\"x_infl\", mu=0, sigma=10)\n",
    "    z_infl = pm.Normal(\"z_infl\", mu=0, sigma=10)\n",
    "    sigma = pm.HalfNormal(\"sigma\", sigma=1)\n",
    "    \n",
    "    # Expected value of outcome\n",
    "    mu = intercept + x_infl * x_values + z_infl * z_values\n",
    "    \n",
    "    # Likelihood (sampling distribution) of observations\n",
    "    Y_obs = pm.Normal(\"Y_obs\", mu=mu, sigma=sigma, observed=y_values)"
   ]
  },
  {
   "cell_type": "code",
   "execution_count": 183,
   "id": "b0761b2d-5332-4286-973e-dc3663286254",
   "metadata": {},
   "outputs": [
    {
     "data": {
      "text/html": [
       "\n",
       "<style>\n",
       "    /* Turns off some styling */\n",
       "    progress {\n",
       "        /* gets rid of default border in Firefox and Opera. */\n",
       "        border: none;\n",
       "        /* Needs to be in here for Safari polyfill so background images work as expected. */\n",
       "        background-size: auto;\n",
       "    }\n",
       "    progress:not([value]), progress:not([value])::-webkit-progress-bar {\n",
       "        background: repeating-linear-gradient(45deg, #7e7e7e, #7e7e7e 10px, #5c5c5c 10px, #5c5c5c 20px);\n",
       "    }\n",
       "    .progress-bar-interrupted, .progress-bar-interrupted::-webkit-progress-bar {\n",
       "        background: #F44336;\n",
       "    }\n",
       "</style>\n"
      ],
      "text/plain": [
       "<IPython.core.display.HTML object>"
      ]
     },
     "metadata": {},
     "output_type": "display_data"
    },
    {
     "data": {
      "text/html": [
       "\n",
       "    <div>\n",
       "      <progress value='53' class='' max='53' style='width:300px; height:20px; vertical-align: middle;'></progress>\n",
       "      100.00% [53/53 00:01&lt;00:00 logp = -87.193, ||grad|| = 0.0014558]\n",
       "    </div>\n",
       "    "
      ],
      "text/plain": [
       "<IPython.core.display.HTML object>"
      ]
     },
     "metadata": {},
     "output_type": "display_data"
    },
    {
     "name": "stdout",
     "output_type": "stream",
     "text": [
      "\n",
      "{'intercept': array(1.63352266), 'x_infl': array(0.09249431), 'z_infl': array(10.00426013), 'sigma_log__': array(-0.6537574), 'sigma': array(0.52008792)}\n"
     ]
    }
   ],
   "source": [
    "map_estimate = pm.find_MAP(model=unconfounded_model)\n",
    "print(map_estimate)"
   ]
  },
  {
   "cell_type": "code",
   "execution_count": null,
   "id": "d53d6f70-b6fb-4944-8df2-4602a6c5baa6",
   "metadata": {},
   "outputs": [],
   "source": []
  }
 ],
 "metadata": {
  "kernelspec": {
   "display_name": "pymc3",
   "language": "python",
   "name": "pymc3"
  },
  "language_info": {
   "codemirror_mode": {
    "name": "ipython",
    "version": 3
   },
   "file_extension": ".py",
   "mimetype": "text/x-python",
   "name": "python",
   "nbconvert_exporter": "python",
   "pygments_lexer": "ipython3",
   "version": "3.10.6"
  }
 },
 "nbformat": 4,
 "nbformat_minor": 5
}
